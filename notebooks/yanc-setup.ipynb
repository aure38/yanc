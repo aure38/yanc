{
 "cells": [
  {
   "cell_type": "markdown",
   "metadata": {},
   "source": [
    "### RethinkDB - Connection - http://rethinkdb.com/api"
   ]
  },
  {
   "cell_type": "code",
   "execution_count": 1,
   "metadata": {
    "collapsed": false
   },
   "outputs": [],
   "source": [
    "import rethinkdb as r\n",
    "rdb = r.connect(host='127.0.0.1')"
   ]
  },
  {
   "cell_type": "markdown",
   "metadata": {},
   "source": [
    "### RethinkDB - Bases & Tables"
   ]
  },
  {
   "cell_type": "code",
   "execution_count": 2,
   "metadata": {
    "collapsed": false
   },
   "outputs": [
    {
     "name": "stdout",
     "output_type": "stream",
     "text": [
      "Bases = ['rethinkdb', 'test', 'yanc']\n",
      "Tables in yanc = ['articles', 'articles_users', 'feeds', 'users']\n"
     ]
    }
   ],
   "source": [
    "rdb_bases = r.db_list().run(rdb)\n",
    "if 'yanc' not in rdb_bases :\n",
    "    r.db_create('yanc').run(rdb)\n",
    "\n",
    "rdb_tables = r.db('yanc').table_list().run(rdb)\n",
    "for tabl in ['users', 'feeds', 'articles', 'articles_users'] :\n",
    "    if tabl not in rdb_tables :\n",
    "        r.db('yanc').table_create(tabl).run(rdb)\n",
    "print('Bases = %s' % str(r.db_list().run(rdb)))\n",
    "print('Tables in yanc = %s' % str(r.db('yanc').table_list().run(rdb)))\n",
    "rdb.use('yanc')"
   ]
  },
  {
   "cell_type": "markdown",
   "metadata": {},
   "source": [
    "### Feeds : creation & list - http://pandas.pydata.org/pandas-docs/version/0.18.1/index.html"
   ]
  },
  {
   "cell_type": "code",
   "execution_count": 9,
   "metadata": {
    "collapsed": false
   },
   "outputs": [],
   "source": [
    "if r.table('feeds').count().run(rdb) < 1 :\n",
    "    r.table('feeds').delete().run(rdb)\n",
    "    r.table('feeds').insert({'name':'courrier international' , 'url':'http://www.courrierinternational.com/feed/all/rss.xml'}).run(rdb)\n",
    "    r.table('feeds').insert({'name':'BFM les experts' , 'url':'http://podcast.bfmbusiness.com/channel78/BFMchannel78.xml'}).run(rdb)\n",
    "    r.table('feeds').insert({'name':'Les crises' , 'url':'http://feeds.feedburner.com/les-crises-fr'}).run(rdb)"
   ]
  },
  {
   "cell_type": "code",
   "execution_count": 51,
   "metadata": {
    "collapsed": false
   },
   "outputs": [
    {
     "data": {
      "text/html": [
       "<div>\n",
       "<table border=\"1\" class=\"dataframe\">\n",
       "  <thead>\n",
       "    <tr style=\"text-align: right;\">\n",
       "      <th></th>\n",
       "      <th>description</th>\n",
       "      <th>id</th>\n",
       "      <th>image_url_online</th>\n",
       "      <th>name</th>\n",
       "      <th>url</th>\n",
       "    </tr>\n",
       "  </thead>\n",
       "  <tbody>\n",
       "    <tr>\n",
       "      <th>0</th>\n",
       "      <td>Journal Marianne</td>\n",
       "      <td>3d41ba6c696849b2beaad891b82c0d325f0a45c1</td>\n",
       "      <td>http://www.marianne.net/sites/default/files/ne...</td>\n",
       "      <td>Marianne</td>\n",
       "      <td>http://www.marianne.net/rss.xml</td>\n",
       "    </tr>\n",
       "    <tr>\n",
       "      <th>1</th>\n",
       "      <td>None</td>\n",
       "      <td>1bc726b5bf885f3e163c12abe0a7284d22b661f1</td>\n",
       "      <td>http://www.les-crises.fr/wp-content/themes/les...</td>\n",
       "      <td>Les-Crises.fr</td>\n",
       "      <td>http://feeds.feedburner.com/les-crises-fr</td>\n",
       "    </tr>\n",
       "    <tr>\n",
       "      <th>2</th>\n",
       "      <td>None</td>\n",
       "      <td>6db05e350059a0108af555692c6100cd3036ecd6</td>\n",
       "      <td>http://a.amz.mshcdn.com/assets/header_logo.v2....</td>\n",
       "      <td>Mashable</td>\n",
       "      <td>http://feeds.mashable.com/mashable</td>\n",
       "    </tr>\n",
       "    <tr>\n",
       "      <th>3</th>\n",
       "      <td>None</td>\n",
       "      <td>4a0c918f9b381c7026e24a0238269f94f65c7750</td>\n",
       "      <td>http://www.courrierinternational.com/sites/ci_...</td>\n",
       "      <td>Courrier International</td>\n",
       "      <td>http://www.courrierinternational.com/feed/all/...</td>\n",
       "    </tr>\n",
       "  </tbody>\n",
       "</table>\n",
       "</div>"
      ],
      "text/plain": [
       "        description                                        id  \\\n",
       "0  Journal Marianne  3d41ba6c696849b2beaad891b82c0d325f0a45c1   \n",
       "1              None  1bc726b5bf885f3e163c12abe0a7284d22b661f1   \n",
       "2              None  6db05e350059a0108af555692c6100cd3036ecd6   \n",
       "3              None  4a0c918f9b381c7026e24a0238269f94f65c7750   \n",
       "\n",
       "                                    image_url_online                    name  \\\n",
       "0  http://www.marianne.net/sites/default/files/ne...                Marianne   \n",
       "1  http://www.les-crises.fr/wp-content/themes/les...           Les-Crises.fr   \n",
       "2  http://a.amz.mshcdn.com/assets/header_logo.v2....                Mashable   \n",
       "3  http://www.courrierinternational.com/sites/ci_...  Courrier International   \n",
       "\n",
       "                                                 url  \n",
       "0                    http://www.marianne.net/rss.xml  \n",
       "1          http://feeds.feedburner.com/les-crises-fr  \n",
       "2                 http://feeds.mashable.com/mashable  \n",
       "3  http://www.courrierinternational.com/feed/all/...  "
      ]
     },
     "execution_count": 51,
     "metadata": {},
     "output_type": "execute_result"
    }
   ],
   "source": [
    "import pandas as pd, numpy as np\n",
    "df_feeds = pd.DataFrame(list(r.table('feeds').run(rdb)))\n",
    "# print(sorted(list(df_feeds['id'])))\n",
    "df_feeds.head()"
   ]
  },
  {
   "cell_type": "markdown",
   "metadata": {},
   "source": [
    "### Users : creation and feeds association"
   ]
  },
  {
   "cell_type": "code",
   "execution_count": 25,
   "metadata": {
    "collapsed": false
   },
   "outputs": [
    {
     "name": "stdout",
     "output_type": "stream",
     "text": [
      "[{'feeds': ['f1af536f-9985-4209-bef3-fee198a3a46a', 'abb1cde6-d1ce-41d9-aac8-b0a74335a0c6', '149c16ba-b395-48b0-9af8-db4159d3145f'], 'id': 'aure'}]\n"
     ]
    },
    {
     "data": {
      "text/html": [
       "<div>\n",
       "<table border=\"1\" class=\"dataframe\">\n",
       "  <thead>\n",
       "    <tr style=\"text-align: right;\">\n",
       "      <th></th>\n",
       "      <th>feeds</th>\n",
       "      <th>id</th>\n",
       "    </tr>\n",
       "  </thead>\n",
       "  <tbody>\n",
       "    <tr>\n",
       "      <th>0</th>\n",
       "      <td>[f1af536f-9985-4209-bef3-fee198a3a46a, abb1cde...</td>\n",
       "      <td>aure</td>\n",
       "    </tr>\n",
       "  </tbody>\n",
       "</table>\n",
       "</div>"
      ],
      "text/plain": [
       "                                               feeds    id\n",
       "0  [f1af536f-9985-4209-bef3-fee198a3a46a, abb1cde...  aure"
      ]
     },
     "execution_count": 25,
     "metadata": {},
     "output_type": "execute_result"
    }
   ],
   "source": [
    "liste_feeds_ids = r.table('feeds')['id'].run(rdb)\n",
    "# On associe tous les feeds au user aure\n",
    "r.table('users').insert({'id':'aure', 'feeds':liste_feeds_ids}, conflict='replace').run(rdb)\n",
    "df_users = pd.DataFrame(list(r.table('users').run(rdb)))\n",
    "print(list(r.table('users').run(rdb)))\n",
    "df_users"
   ]
  },
  {
   "cell_type": "markdown",
   "metadata": {},
   "source": [
    "### Articles per user"
   ]
  },
  {
   "cell_type": "code",
   "execution_count": 30,
   "metadata": {
    "collapsed": false
   },
   "outputs": [
    {
     "data": {
      "text/html": [
       "<div>\n",
       "<table border=\"1\" class=\"dataframe\">\n",
       "  <thead>\n",
       "    <tr style=\"text-align: right;\">\n",
       "      <th></th>\n",
       "      <th>aure</th>\n",
       "      <th>id</th>\n",
       "      <th>ts_published</th>\n",
       "    </tr>\n",
       "  </thead>\n",
       "  <tbody>\n",
       "    <tr>\n",
       "      <th>0</th>\n",
       "      <td>{'score': 0, 'sorting': '10001610252359', 'tag...</td>\n",
       "      <td>05bec3d42a8b56edd678f920225ac6054e550a62</td>\n",
       "      <td>2016-10-25 23:59:04+02:00</td>\n",
       "    </tr>\n",
       "    <tr>\n",
       "      <th>1</th>\n",
       "      <td>{'score': 0, 'sorting': '10001610281241', 'tag...</td>\n",
       "      <td>0d874c327b7445b16d6b0cb0f5017b1e0b62d6f9</td>\n",
       "      <td>2016-10-28 12:41:17+02:00</td>\n",
       "    </tr>\n",
       "    <tr>\n",
       "      <th>2</th>\n",
       "      <td>{'score': 0, 'sorting': '10001610261526', 'tag...</td>\n",
       "      <td>01ccd9c27becac25ae8f4ebbab7cbbae0f10e2db</td>\n",
       "      <td>2016-10-26 15:26:45+02:00</td>\n",
       "    </tr>\n",
       "    <tr>\n",
       "      <th>3</th>\n",
       "      <td>{'score': 0, 'sorting': '10001610281539', 'tag...</td>\n",
       "      <td>09b1c9b6919f30f39ea2a301253ea67c0792fa72</td>\n",
       "      <td>2016-10-28 15:39:02+02:00</td>\n",
       "    </tr>\n",
       "    <tr>\n",
       "      <th>4</th>\n",
       "      <td>{'score': 0, 'sorting': '10001610272340', 'tag...</td>\n",
       "      <td>1f6a5e84d167e8c39269fe633fd6d85482437726</td>\n",
       "      <td>2016-10-27 23:40:23+02:00</td>\n",
       "    </tr>\n",
       "  </tbody>\n",
       "</table>\n",
       "</div>"
      ],
      "text/plain": [
       "                                                aure  \\\n",
       "0  {'score': 0, 'sorting': '10001610252359', 'tag...   \n",
       "1  {'score': 0, 'sorting': '10001610281241', 'tag...   \n",
       "2  {'score': 0, 'sorting': '10001610261526', 'tag...   \n",
       "3  {'score': 0, 'sorting': '10001610281539', 'tag...   \n",
       "4  {'score': 0, 'sorting': '10001610272340', 'tag...   \n",
       "\n",
       "                                         id               ts_published  \n",
       "0  05bec3d42a8b56edd678f920225ac6054e550a62  2016-10-25 23:59:04+02:00  \n",
       "1  0d874c327b7445b16d6b0cb0f5017b1e0b62d6f9  2016-10-28 12:41:17+02:00  \n",
       "2  01ccd9c27becac25ae8f4ebbab7cbbae0f10e2db  2016-10-26 15:26:45+02:00  \n",
       "3  09b1c9b6919f30f39ea2a301253ea67c0792fa72  2016-10-28 15:39:02+02:00  \n",
       "4  1f6a5e84d167e8c39269fe633fd6d85482437726  2016-10-27 23:40:23+02:00  "
      ]
     },
     "execution_count": 30,
     "metadata": {},
     "output_type": "execute_result"
    }
   ],
   "source": [
    "df_artusr = pd.DataFrame(list(r.table('articles_users').run(rdb)))\n",
    "# print(sorted(list(df_artusr['id'])))\n",
    "df_artusr.head()"
   ]
  },
  {
   "cell_type": "code",
   "execution_count": 48,
   "metadata": {
    "collapsed": false
   },
   "outputs": [
    {
     "name": "stdout",
     "output_type": "stream",
     "text": [
      "{\"aure\": {\"score\": 0, \"sorting\": \"10001610252359\", \"tags\": [\"tag1\", \"tag2\"], \"status\": 0}, \"id\": \"05bec3d42a8b56edd678f920225ac6054e550a62\", \"ts_published\": \"2016-10-25T23:59:04+02:00\"}\n",
      "{\"aure\": {\"score\": 0, \"sorting\": \"10001610281241\", \"tags\": [\"tag1\", \"tag2\"], \"status\": -666}, \"id\": \"0d874c327b7445b16d6b0cb0f5017b1e0b62d6f9\", \"ts_published\": \"2016-10-28T12:41:17+02:00\"}\n",
      "{\"aure\": {\"score\": 0, \"sorting\": \"10001610261526\", \"tags\": [\"tag1\", \"tag2\"], \"status\": 0}, \"id\": \"01ccd9c27becac25ae8f4ebbab7cbbae0f10e2db\", \"ts_published\": \"2016-10-26T15:26:45+02:00\"}\n",
      "{\"aure\": {\"score\": 0, \"sorting\": \"10001610281539\", \"tags\": [\"tag1\", \"tag2\"], \"status\": 0}, \"id\": \"09b1c9b6919f30f39ea2a301253ea67c0792fa72\", \"ts_published\": \"2016-10-28T15:39:02+02:00\"}\n",
      "{\"aure\": {\"score\": 0, \"sorting\": \"10001610272340\", \"tags\": [\"tag1\", \"tag2\"], \"status\": 0}, \"id\": \"1f6a5e84d167e8c39269fe633fd6d85482437726\", \"ts_published\": \"2016-10-27T23:40:23+02:00\"}\n",
      "{\"aure\": {\"score\": 0, \"sorting\": \"10001610280920\", \"tags\": [\"tag1\", \"tag2\"], \"status\": 0}, \"id\": \"015613c3c16e9d60885e4480bb8b62d552ecebe5\", \"ts_published\": \"2016-10-28T09:20:27+02:00\"}\n",
      "{\"aure\": {\"score\": 0, \"sorting\": \"10001610271120\", \"tags\": [\"tag1\", \"tag2\"], \"status\": 0}, \"id\": \"152e1eabbf5f25b25e70753458aa0253ebe83e97\", \"ts_published\": \"2016-10-27T11:20:13+02:00\"}\n",
      "{\"aure\": {\"score\": 0, \"sorting\": \"10001610270130\", \"tags\": [\"tag1\", \"tag2\"], \"status\": 0}, \"id\": \"2c1fa446b626d8da50f03c45de5e00f4b1c31d21\", \"ts_published\": \"2016-10-27T01:30:22+02:00\"}\n",
      "{\"aure\": {\"score\": 0, \"sorting\": \"10001610270914\", \"tags\": [\"tag1\", \"tag2\"], \"status\": 0}, \"id\": \"1b226fe6b48dadb50bd49cadf817e3feb12f2f83\", \"ts_published\": \"2016-10-27T09:14:01+02:00\"}\n",
      "{\"aure\": {\"score\": 0, \"sorting\": \"10001610271529\", \"tags\": [\"tag1\", \"tag2\"], \"status\": 0}, \"id\": \"4262f80e53712ad27c4d71c8fe503533a8812884\", \"ts_published\": \"2016-10-27T15:29:02+02:00\"}\n"
     ]
    }
   ],
   "source": [
    "import json\n",
    "for obj in r.table('articles_users').limit(10).map(lambda doc : doc.merge({'ts_published' : doc['ts_published'].to_iso8601()})).run(rdb) :\n",
    "    print(json.dumps(obj))"
   ]
  },
  {
   "cell_type": "code",
   "execution_count": null,
   "metadata": {
    "collapsed": true
   },
   "outputs": [],
   "source": []
  },
  {
   "cell_type": "code",
   "execution_count": null,
   "metadata": {
    "collapsed": true
   },
   "outputs": [],
   "source": []
  },
  {
   "cell_type": "code",
   "execution_count": null,
   "metadata": {
    "collapsed": true
   },
   "outputs": [],
   "source": []
  },
  {
   "cell_type": "code",
   "execution_count": null,
   "metadata": {
    "collapsed": true
   },
   "outputs": [],
   "source": []
  }
 ],
 "metadata": {
  "kernelspec": {
   "display_name": "Python 3",
   "language": "python",
   "name": "python3"
  },
  "language_info": {
   "codemirror_mode": {
    "name": "ipython",
    "version": 3
   },
   "file_extension": ".py",
   "mimetype": "text/x-python",
   "name": "python",
   "nbconvert_exporter": "python",
   "pygments_lexer": "ipython3",
   "version": "3.5.2"
  }
 },
 "nbformat": 4,
 "nbformat_minor": 0
}
