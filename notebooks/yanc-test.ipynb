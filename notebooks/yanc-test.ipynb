{
 "cells": [
  {
   "cell_type": "markdown",
   "metadata": {},
   "source": [
    "### RethinkDB - Connection - http://rethinkdb.com/api"
   ]
  },
  {
   "cell_type": "code",
   "execution_count": 4,
   "metadata": {
    "collapsed": true
   },
   "outputs": [],
   "source": [
    "import rethinkdb as r\n",
    "rdb = r.connect(host='127.0.0.1')\n",
    "rdb.use('yanc')"
   ]
  },
  {
   "cell_type": "code",
   "execution_count": 94,
   "metadata": {
    "collapsed": false
   },
   "outputs": [
    {
     "data": {
      "text/plain": [
       "{'feeds': ['f1af536f-9985-4209-bef3-fee198a3a46a',\n",
       "  'abb1cde6-d1ce-41d9-aac8-b0a74335a0c6',\n",
       "  '149c16ba-b395-48b0-9af8-db4159d3145f',\n",
       "  '1bc726b5bf885f3e163c12abe0a7284d22b661f1',\n",
       "  '4a0c918f9b381c7026e24a0238269f94f65c7750'],\n",
       " 'id': 'aure'}"
      ]
     },
     "execution_count": 94,
     "metadata": {},
     "output_type": "execute_result"
    }
   ],
   "source": [
    "r.table('users').get('aure').run(rdb)"
   ]
  },
  {
   "cell_type": "code",
   "execution_count": 97,
   "metadata": {
    "collapsed": false
   },
   "outputs": [
    {
     "data": {
      "text/html": [
       "<div>\n",
       "<table border=\"1\" class=\"dataframe\">\n",
       "  <thead>\n",
       "    <tr style=\"text-align: right;\">\n",
       "      <th></th>\n",
       "      <th>author</th>\n",
       "      <th>content</th>\n",
       "      <th>content_stz</th>\n",
       "      <th>feed_id</th>\n",
       "      <th>id</th>\n",
       "      <th>links_audio</th>\n",
       "      <th>links_images</th>\n",
       "      <th>links_video</th>\n",
       "      <th>tags</th>\n",
       "      <th>title</th>\n",
       "      <th>title_stz</th>\n",
       "      <th>ts_published</th>\n",
       "      <th>url_article</th>\n",
       "    </tr>\n",
       "  </thead>\n",
       "  <tbody>\n",
       "    <tr>\n",
       "      <th>0</th>\n",
       "      <td>None</td>\n",
       "      <td>None</td>\n",
       "      <td>none</td>\n",
       "      <td>4a0c918f9b381c7026e24a0238269f94f65c7750</td>\n",
       "      <td>5b64d167caee38d7335d1a35b49860a2bd1972ab</td>\n",
       "      <td>[]</td>\n",
       "      <td>[http://www.courrierinternational.com/sites/ci...</td>\n",
       "      <td>[]</td>\n",
       "      <td>[]</td>\n",
       "      <td>Vu du Royaume-Uni. “The Spectator” voit Marine...</td>\n",
       "      <td>vu du royaume-uni the spectator voit marine le...</td>\n",
       "      <td>2016-10-26 15:46:08+02:00</td>\n",
       "      <td>http://www.courrierinternational.com/une/vu-du...</td>\n",
       "    </tr>\n",
       "    <tr>\n",
       "      <th>1</th>\n",
       "      <td>None</td>\n",
       "      <td>Le président ivoirien Alassane Ouattara soumet...</td>\n",
       "      <td>le president ivoirien alassane ouattara soumet...</td>\n",
       "      <td>4a0c918f9b381c7026e24a0238269f94f65c7750</td>\n",
       "      <td>0d874c327b7445b16d6b0cb0f5017b1e0b62d6f9</td>\n",
       "      <td>[]</td>\n",
       "      <td>[http://www.courrierinternational.com/sites/ci...</td>\n",
       "      <td>[]</td>\n",
       "      <td>[]</td>\n",
       "      <td>Côte d'Ivoire . L'opposition boycotte le référ...</td>\n",
       "      <td>cote d ivoire l opposition boycotte le referen...</td>\n",
       "      <td>2016-10-28 12:41:17+02:00</td>\n",
       "      <td>http://www.courrierinternational.com/article/c...</td>\n",
       "    </tr>\n",
       "    <tr>\n",
       "      <th>2</th>\n",
       "      <td>None</td>\n",
       "      <td>None</td>\n",
       "      <td>none</td>\n",
       "      <td>4a0c918f9b381c7026e24a0238269f94f65c7750</td>\n",
       "      <td>01ccd9c27becac25ae8f4ebbab7cbbae0f10e2db</td>\n",
       "      <td>[]</td>\n",
       "      <td>[http://www.courrierinternational.com/sites/ci...</td>\n",
       "      <td>[]</td>\n",
       "      <td>[]</td>\n",
       "      <td>Venezuela. Caracas explosera-t-il ?</td>\n",
       "      <td>venezuela caracas explosera-t-il</td>\n",
       "      <td>2016-10-26 15:26:45+02:00</td>\n",
       "      <td>http://www.courrierinternational.com/dessin/ve...</td>\n",
       "    </tr>\n",
       "    <tr>\n",
       "      <th>3</th>\n",
       "      <td>None</td>\n",
       "      <td>Après 25 ans de discussions, la Mer de Ross da...</td>\n",
       "      <td>apres 25 ans de discussions la mer de ross dan...</td>\n",
       "      <td>4a0c918f9b381c7026e24a0238269f94f65c7750</td>\n",
       "      <td>09b1c9b6919f30f39ea2a301253ea67c0792fa72</td>\n",
       "      <td>[]</td>\n",
       "      <td>[http://www.courrierinternational.com/sites/ci...</td>\n",
       "      <td>[]</td>\n",
       "      <td>[]</td>\n",
       "      <td>Environnement. Le plus grand sanctuaire marin ...</td>\n",
       "      <td>environnement le plus grand sanctuaire marin v...</td>\n",
       "      <td>2016-10-28 15:39:02+02:00</td>\n",
       "      <td>http://www.courrierinternational.com/article/e...</td>\n",
       "    </tr>\n",
       "    <tr>\n",
       "      <th>4</th>\n",
       "      <td>Les-crises.fr DT</td>\n",
       "      <td>Source : Blog Mediapart, Maxime Chaix , 26-10-...</td>\n",
       "      <td>source blog mediapart maxime chaix 26-10-2016 ...</td>\n",
       "      <td>1bc726b5bf885f3e163c12abe0a7284d22b661f1</td>\n",
       "      <td>1f6a5e84d167e8c39269fe633fd6d85482437726</td>\n",
       "      <td>[]</td>\n",
       "      <td>[http://www.les-crises.fr/wp-content/themes/le...</td>\n",
       "      <td>[]</td>\n",
       "      <td>[diplomatie francaise, crise politique]</td>\n",
       "      <td>Pourquoi l'“émodiplomatie” française n'est ni ...</td>\n",
       "      <td>pourquoi l emodiplomatie francaise n est ni cr...</td>\n",
       "      <td>2016-10-27 23:40:23+02:00</td>\n",
       "      <td>http://feedproxy.google.com/~r/les-crises-fr/~...</td>\n",
       "    </tr>\n",
       "  </tbody>\n",
       "</table>\n",
       "</div>"
      ],
      "text/plain": [
       "             author                                            content  \\\n",
       "0              None                                               None   \n",
       "1              None  Le président ivoirien Alassane Ouattara soumet...   \n",
       "2              None                                               None   \n",
       "3              None  Après 25 ans de discussions, la Mer de Ross da...   \n",
       "4  Les-crises.fr DT  Source : Blog Mediapart, Maxime Chaix , 26-10-...   \n",
       "\n",
       "                                         content_stz  \\\n",
       "0                                               none   \n",
       "1  le president ivoirien alassane ouattara soumet...   \n",
       "2                                               none   \n",
       "3  apres 25 ans de discussions la mer de ross dan...   \n",
       "4  source blog mediapart maxime chaix 26-10-2016 ...   \n",
       "\n",
       "                                    feed_id  \\\n",
       "0  4a0c918f9b381c7026e24a0238269f94f65c7750   \n",
       "1  4a0c918f9b381c7026e24a0238269f94f65c7750   \n",
       "2  4a0c918f9b381c7026e24a0238269f94f65c7750   \n",
       "3  4a0c918f9b381c7026e24a0238269f94f65c7750   \n",
       "4  1bc726b5bf885f3e163c12abe0a7284d22b661f1   \n",
       "\n",
       "                                         id links_audio  \\\n",
       "0  5b64d167caee38d7335d1a35b49860a2bd1972ab          []   \n",
       "1  0d874c327b7445b16d6b0cb0f5017b1e0b62d6f9          []   \n",
       "2  01ccd9c27becac25ae8f4ebbab7cbbae0f10e2db          []   \n",
       "3  09b1c9b6919f30f39ea2a301253ea67c0792fa72          []   \n",
       "4  1f6a5e84d167e8c39269fe633fd6d85482437726          []   \n",
       "\n",
       "                                        links_images links_video  \\\n",
       "0  [http://www.courrierinternational.com/sites/ci...          []   \n",
       "1  [http://www.courrierinternational.com/sites/ci...          []   \n",
       "2  [http://www.courrierinternational.com/sites/ci...          []   \n",
       "3  [http://www.courrierinternational.com/sites/ci...          []   \n",
       "4  [http://www.les-crises.fr/wp-content/themes/le...          []   \n",
       "\n",
       "                                      tags  \\\n",
       "0                                       []   \n",
       "1                                       []   \n",
       "2                                       []   \n",
       "3                                       []   \n",
       "4  [diplomatie francaise, crise politique]   \n",
       "\n",
       "                                               title  \\\n",
       "0  Vu du Royaume-Uni. “The Spectator” voit Marine...   \n",
       "1  Côte d'Ivoire . L'opposition boycotte le référ...   \n",
       "2                Venezuela. Caracas explosera-t-il ?   \n",
       "3  Environnement. Le plus grand sanctuaire marin ...   \n",
       "4  Pourquoi l'“émodiplomatie” française n'est ni ...   \n",
       "\n",
       "                                           title_stz  \\\n",
       "0  vu du royaume-uni the spectator voit marine le...   \n",
       "1  cote d ivoire l opposition boycotte le referen...   \n",
       "2                   venezuela caracas explosera-t-il   \n",
       "3  environnement le plus grand sanctuaire marin v...   \n",
       "4  pourquoi l emodiplomatie francaise n est ni cr...   \n",
       "\n",
       "                ts_published  \\\n",
       "0  2016-10-26 15:46:08+02:00   \n",
       "1  2016-10-28 12:41:17+02:00   \n",
       "2  2016-10-26 15:26:45+02:00   \n",
       "3  2016-10-28 15:39:02+02:00   \n",
       "4  2016-10-27 23:40:23+02:00   \n",
       "\n",
       "                                         url_article  \n",
       "0  http://www.courrierinternational.com/une/vu-du...  \n",
       "1  http://www.courrierinternational.com/article/c...  \n",
       "2  http://www.courrierinternational.com/dessin/ve...  \n",
       "3  http://www.courrierinternational.com/article/e...  \n",
       "4  http://feedproxy.google.com/~r/les-crises-fr/~...  "
      ]
     },
     "execution_count": 97,
     "metadata": {},
     "output_type": "execute_result"
    }
   ],
   "source": [
    "import pandas as pd, numpy as np\n",
    "df_feeds = pd.DataFrame(list(r.table('articles').run(rdb)))\n",
    "# print(sorted(list(df_feeds['id'])))\n",
    "df_feeds.head()"
   ]
  },
  {
   "cell_type": "code",
   "execution_count": 93,
   "metadata": {
    "collapsed": false
   },
   "outputs": [
    {
     "data": {
      "text/plain": [
       "{'deleted': 0,\n",
       " 'errors': 0,\n",
       " 'inserted': 0,\n",
       " 'replaced': 1,\n",
       " 'skipped': 0,\n",
       " 'unchanged': 0}"
      ]
     },
     "execution_count": 93,
     "metadata": {},
     "output_type": "execute_result"
    }
   ],
   "source": [
    "r.table('feeds').get('4a0c918f9b381c7026e24a0238269f94f65c7750').update({'name' : 'Courrier International'}).run(rdb)"
   ]
  },
  {
   "cell_type": "code",
   "execution_count": 95,
   "metadata": {
    "collapsed": false
   },
   "outputs": [
    {
     "data": {
      "text/plain": [
       "{'deleted': 0,\n",
       " 'errors': 0,\n",
       " 'inserted': 0,\n",
       " 'replaced': 1,\n",
       " 'skipped': 0,\n",
       " 'unchanged': 0}"
      ]
     },
     "execution_count": 95,
     "metadata": {},
     "output_type": "execute_result"
    }
   ],
   "source": [
    "r.table('users').get('aure').update({'feeds': ['1bc726b5bf885f3e163c12abe0a7284d22b661f1', '4a0c918f9b381c7026e24a0238269f94f65c7750']}).run(rdb)"
   ]
  },
  {
   "cell_type": "code",
   "execution_count": 70,
   "metadata": {
    "collapsed": false
   },
   "outputs": [
    {
     "data": {
      "text/plain": [
       "{'feeds': ['f1af536f-9985-4209-bef3-fee198a3a46a',\n",
       "  'abb1cde6-d1ce-41d9-aac8-b0a74335a0c6',\n",
       "  '149c16ba-b395-48b0-9af8-db4159d3145f'],\n",
       " 'id': 'aure'}"
      ]
     },
     "execution_count": 70,
     "metadata": {},
     "output_type": "execute_result"
    }
   ],
   "source": [
    "r.table('users').get('aure').run(rdb)"
   ]
  },
  {
   "cell_type": "code",
   "execution_count": 67,
   "metadata": {
    "collapsed": false
   },
   "outputs": [
    {
     "data": {
      "text/plain": [
       "{'deleted': 0,\n",
       " 'errors': 0,\n",
       " 'inserted': 0,\n",
       " 'replaced': 0,\n",
       " 'skipped': 0,\n",
       " 'unchanged': 1}"
      ]
     },
     "execution_count": 67,
     "metadata": {},
     "output_type": "execute_result"
    }
   ],
   "source": [
    "r.table('users').get('aure').update({'feeds': r.branch(r.row['feeds'].contains('tata'), r.row['feeds'], r.row['feeds'].append('tata'))}).run(rdb)"
   ]
  },
  {
   "cell_type": "code",
   "execution_count": 78,
   "metadata": {
    "collapsed": false
   },
   "outputs": [
    {
     "data": {
      "text/plain": [
       "[{'id': 'f1af536f-9985-4209-bef3-fee198a3a46a'},\n",
       " {'headers': {'name': 'Les-crises.fr',\n",
       "   'url': 'http://feeds.feedburner.com/les-crises-fr'},\n",
       "  'id': '1bc726b5bf885f3e163c12abe0a7284d22b661f1'},\n",
       " {'id': 'abb1cde6-d1ce-41d9-aac8-b0a74335a0c6'},\n",
       " {'id': '149c16ba-b395-48b0-9af8-db4159d3145f'}]"
      ]
     },
     "execution_count": 78,
     "metadata": {},
     "output_type": "execute_result"
    }
   ],
   "source": [
    "list(r.table('feeds').pluck('id', {'headers': ['name', 'url']}).run(rdb))"
   ]
  },
  {
   "cell_type": "code",
   "execution_count": 98,
   "metadata": {
    "collapsed": false
   },
   "outputs": [],
   "source": [
    "import requests,os,sys\n",
    "import feedparser\n",
    "feedr = feedparser.parse(\"http://podcast.bfmbusiness.com/channel78/BFMchannel78.xml\")"
   ]
  },
  {
   "cell_type": "code",
   "execution_count": 99,
   "metadata": {
    "collapsed": false
   },
   "outputs": [
    {
     "data": {
      "text/plain": [
       "200"
      ]
     },
     "execution_count": 99,
     "metadata": {},
     "output_type": "execute_result"
    }
   ],
   "source": [
    "feedr.get('status')"
   ]
  },
  {
   "cell_type": "code",
   "execution_count": 100,
   "metadata": {
    "collapsed": false
   },
   "outputs": [
    {
     "data": {
      "text/plain": [
       "'utf-8'"
      ]
     },
     "execution_count": 100,
     "metadata": {},
     "output_type": "execute_result"
    }
   ],
   "source": [
    "feedr.get('encoding')"
   ]
  },
  {
   "cell_type": "code",
   "execution_count": 34,
   "metadata": {
    "collapsed": false
   },
   "outputs": [
    {
     "data": {
      "text/plain": [
       "200"
      ]
     },
     "execution_count": 34,
     "metadata": {},
     "output_type": "execute_result"
    }
   ],
   "source": [
    "response = requests.get(\"http://www.courrierinternational.com/feed/all/rss.xml\", timeout=10)\n",
    "response.status_code"
   ]
  },
  {
   "cell_type": "code",
   "execution_count": 51,
   "metadata": {
    "collapsed": false
   },
   "outputs": [],
   "source": [
    "import dateutil.parser, datetime, \n",
    "td = dateutil.parser.parse('2016-10-26T15:26:45+02:00')"
   ]
  },
  {
   "cell_type": "code",
   "execution_count": 56,
   "metadata": {
    "collapsed": false
   },
   "outputs": [
    {
     "data": {
      "text/plain": [
       "datetime.timedelta(4, 26565, 241269)"
      ]
     },
     "execution_count": 56,
     "metadata": {},
     "output_type": "execute_result"
    }
   ],
   "source": [
    "from pytz import timezone\n",
    "datetime.datetime.now(tz=timezone('Europe/Paris')) - td"
   ]
  },
  {
   "cell_type": "code",
   "execution_count": null,
   "metadata": {
    "collapsed": true
   },
   "outputs": [],
   "source": []
  }
 ],
 "metadata": {
  "kernelspec": {
   "display_name": "Python 3",
   "language": "python",
   "name": "python3"
  },
  "language_info": {
   "codemirror_mode": {
    "name": "ipython",
    "version": 3
   },
   "file_extension": ".py",
   "mimetype": "text/x-python",
   "name": "python",
   "nbconvert_exporter": "python",
   "pygments_lexer": "ipython3",
   "version": "3.5.2"
  }
 },
 "nbformat": 4,
 "nbformat_minor": 1
}
