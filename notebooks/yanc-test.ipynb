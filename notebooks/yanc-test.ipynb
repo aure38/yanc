{
 "cells": [
  {
   "cell_type": "markdown",
   "metadata": {},
   "source": [
    "## Connection to RDB"
   ]
  },
  {
   "cell_type": "code",
   "execution_count": 11,
   "metadata": {
    "collapsed": false
   },
   "outputs": [
    {
     "name": "stdout",
     "output_type": "stream",
     "text": [
      "Bases = ['hdh', 'rethinkdb', 'test', 'yanc']\n"
     ]
    }
   ],
   "source": [
    "# http://pandas.pydata.org/pandas-docs/version/0.18.1/index.html\n",
    "import rethinkdb as r\n",
    "import aclib\n",
    "import pandas as pd, numpy as np\n",
    "\n",
    "# http://rethinkdb.com/api\n",
    "rdb = r.connect(host='127.0.0.1', db='hdh')\n",
    "print('Bases = %s' % str(r.db_list().run(rdb)))\n",
    "rdb.use('yanc')"
   ]
  },
  {
   "cell_type": "markdown",
   "metadata": {},
   "source": [
    "## Ajout de feeds"
   ]
  },
  {
   "cell_type": "code",
   "execution_count": 100,
   "metadata": {
    "collapsed": false
   },
   "outputs": [
    {
     "data": {
      "text/plain": [
       "[{'feeds': ['672d5914-8f82-496f-97fb-035eb699c876',\n",
       "   '921566a8-292b-4dbf-a850-396c58735ed5',\n",
       "   '45159b9f-27af-4090-8439-ecd5f58b3c79'],\n",
       "  'id': 'aure'}]"
      ]
     },
     "execution_count": 100,
     "metadata": {},
     "output_type": "execute_result"
    }
   ],
   "source": [
    "# r.table('feeds').delete().run(rdb)\n",
    "#r.table('feeds').insert({'name':'courrier international' , 'url':'http://www.courrierinternational.com/feed/all/rss.xml'}).run(rdb)\n",
    "#r.table('feeds').insert({'name':'BFM les experts' , 'url':'http://podcast.bfmbusiness.com/channel78/BFMchannel78.xml'}).run(rdb)\n",
    "#r.table('feeds').insert({'name':'Les crises' , 'url':'http://feeds.feedburner.com/les-crises-fr'}).run(rdb)\n",
    "liste_feeds = r.table('feeds')['id'].run(rdb)\n",
    "\n",
    "r.table('users').insert({'id':'aure', 'feeds':liste_feeds}, conflict='replace').run(rdb)\n",
    "list(r.table('users').run(rdb))"
   ]
  },
  {
   "cell_type": "code",
   "execution_count": null,
   "metadata": {
    "collapsed": true
   },
   "outputs": [],
   "source": []
  },
  {
   "cell_type": "code",
   "execution_count": 106,
   "metadata": {
    "collapsed": false
   },
   "outputs": [
    {
     "ename": "TypeError",
     "evalue": "'NoneType' object is not iterable",
     "output_type": "error",
     "traceback": [
      "\u001b[0;31m---------------------------------------------------------------------------\u001b[0m",
      "\u001b[0;31mTypeError\u001b[0m                                 Traceback (most recent call last)",
      "\u001b[0;32m<ipython-input-106-d731744fbed7>\u001b[0m in \u001b[0;36m<module>\u001b[0;34m()\u001b[0m\n\u001b[0;32m----> 1\u001b[0;31m \u001b[0mlist\u001b[0m\u001b[0;34m(\u001b[0m\u001b[0mr\u001b[0m\u001b[0;34m.\u001b[0m\u001b[0mtable\u001b[0m\u001b[0;34m(\u001b[0m\u001b[0;34m'articles_users'\u001b[0m\u001b[0;34m)\u001b[0m\u001b[0;34m.\u001b[0m\u001b[0mget\u001b[0m\u001b[0;34m(\u001b[0m\u001b[0;34m'311e6193ff780a0f9494516fda99b5233cd4efebd'\u001b[0m\u001b[0;34m)\u001b[0m\u001b[0;34m.\u001b[0m\u001b[0mrun\u001b[0m\u001b[0;34m(\u001b[0m\u001b[0mrdb\u001b[0m\u001b[0;34m)\u001b[0m\u001b[0;34m)\u001b[0m\u001b[0;34m\u001b[0m\u001b[0m\n\u001b[0m",
      "\u001b[0;31mTypeError\u001b[0m: 'NoneType' object is not iterable"
     ]
    }
   ],
   "source": [
    "r.table('articles_users').get('311e6193ff780a0f9494516fda99b5233cd4efebd').has_fields('aure').run(rdb)"
   ]
  },
  {
   "cell_type": "code",
   "execution_count": 115,
   "metadata": {
    "collapsed": false
   },
   "outputs": [
    {
     "data": {
      "text/plain": [
       "13"
      ]
     },
     "execution_count": 115,
     "metadata": {},
     "output_type": "execute_result"
    }
   ],
   "source": [
    "import time\n",
    "from datetime import timedelta\n",
    "tmpDate = time.gmtime()\n",
    "datetime.fromtimestamp(time.mktime(tmpDate))\n",
    "\n",
    "\n",
    "\n",
    "\n",
    "tmpDate2 = datetime.fromtimestamp(time.mktime(tmpDate)) - timedelta(days=13)\n",
    "tmpDate3 = tmpDate2 - timedelta(hours=3)\n",
    "tmpNow = datetime.utcnow()\n",
    "timed = tmpNow - tmpDate3\n",
    "timed.days\n"
   ]
  },
  {
   "cell_type": "code",
   "execution_count": 127,
   "metadata": {
    "collapsed": false
   },
   "outputs": [
    {
     "data": {
      "text/plain": [
       "-1"
      ]
     },
     "execution_count": 127,
     "metadata": {},
     "output_type": "execute_result"
    }
   ],
   "source": [
    "(datetime.utcnow() - datetime.fromtimestamp(time.mktime(tmpDate))).days"
   ]
  },
  {
   "cell_type": "code",
   "execution_count": 130,
   "metadata": {
    "collapsed": false
   },
   "outputs": [
    {
     "data": {
      "text/plain": [
       "0"
      ]
     },
     "execution_count": 130,
     "metadata": {},
     "output_type": "execute_result"
    }
   ],
   "source": [
    "(datetime.fromtimestamp(time.mktime(tmpDate)) - datetime.utcnow()).days"
   ]
  },
  {
   "cell_type": "code",
   "execution_count": 129,
   "metadata": {
    "collapsed": false
   },
   "outputs": [
    {
     "data": {
      "text/plain": [
       "datetime.datetime(2016, 10, 10, 20, 39, 39)"
      ]
     },
     "execution_count": 129,
     "metadata": {},
     "output_type": "execute_result"
    }
   ],
   "source": [
    "datetime.fromtimestamp(time.mktime(tmpDate))"
   ]
  },
  {
   "cell_type": "code",
   "execution_count": 92,
   "metadata": {
    "collapsed": false
   },
   "outputs": [
    {
     "data": {
      "text/plain": [
       "{'feeds': ['672d5914-8f82-496f-97fb-035eb699c876',\n",
       "  '921566a8-292b-4dbf-a850-396c58735ed5']}"
      ]
     },
     "execution_count": 92,
     "metadata": {},
     "output_type": "execute_result"
    }
   ],
   "source": [
    "r.table('users').filter()"
   ]
  },
  {
   "cell_type": "code",
   "execution_count": 90,
   "metadata": {
    "collapsed": false
   },
   "outputs": [
    {
     "data": {
      "text/plain": [
       "<rethinkdb.net.DefaultCursor object at 0x7f9855eb7e48 (done streaming):\n",
       " [{'url': 'http://podcast.bfmbusiness.com/channel78/BFMchannel78.xml', 'name': 'BFM les experts', 'id': '672d5914-8f82-496f-97fb-035eb699c876'}, {'url': 'http://www.courrierinternational.com/feed/all/rss.xml', 'name': 'courrier international', 'id': '921566a8-292b-4dbf-a850-396c58735ed5'}]>"
      ]
     },
     "execution_count": 90,
     "metadata": {},
     "output_type": "execute_result"
    }
   ],
   "source": [
    "r.table('feeds').pluck('id', 'name', 'url').run(rdb)"
   ]
  },
  {
   "cell_type": "code",
   "execution_count": 96,
   "metadata": {
    "collapsed": false
   },
   "outputs": [
    {
     "data": {
      "text/plain": [
       "79"
      ]
     },
     "execution_count": 96,
     "metadata": {},
     "output_type": "execute_result"
    }
   ],
   "source": [
    "r.table('articles_users').has_fields('aure').filter(lambda row : row['aure']['status'].ge(0)).count().run(rdb)"
   ]
  },
  {
   "cell_type": "markdown",
   "metadata": {},
   "source": [
    "## Query : rowcount of tables"
   ]
  },
  {
   "cell_type": "code",
   "execution_count": 6,
   "metadata": {
    "collapsed": false
   },
   "outputs": [],
   "source": [
    "#-- Query RDB de rowcount de tables dans un DataFrame (format un peu special renvoye par RDB)\n",
    "# tables_par_row = r.table_list().map(lambda val:[val,r.table(val).count()]).run(rdb) # [['tableX', count], ['tblY', count]]\n",
    "#-- Query RDB de rowcount de tables dans un DataFrame (format en model list of dict, comme du json)\n",
    "tables_par_row = r.table_list().map(lambda val: {'tablename':val, 'nbdocs':r.table(val).count()}).run(rdb) # [{'table': 'nom_table', 'count': 11},\n",
    "df_table_counts = pd.DataFrame(tables_par_row, columns=['tablename', 'nbdocs'])\n",
    "df_table_counts.set_index(keys='tablename', drop=False, append=False, inplace=True, verify_integrity=True)\n",
    "#print(tables_par_row, \"\\n\", df_table_counts.nbdocs) # df_table_counts # df.head()"
   ]
  },
  {
   "cell_type": "markdown",
   "metadata": {},
   "source": [
    "### Graph avec Seaborn"
   ]
  },
  {
   "cell_type": "code",
   "execution_count": 7,
   "metadata": {
    "collapsed": false
   },
   "outputs": [
    {
     "name": "stdout",
     "output_type": "stream",
     "text": [
      "Populating the interactive namespace from numpy and matplotlib\n"
     ]
    },
    {
     "data": {
      "text/plain": [
       "<seaborn.axisgrid.FacetGrid at 0x7f47c80d4940>"
      ]
     },
     "execution_count": 7,
     "metadata": {},
     "output_type": "execute_result"
    },
    {
     "data": {
      "image/png": "[encoded data removed]",
      "text/plain": [
       "<matplotlib.figure.Figure at 0x7f47c80d4978>"
      ]
     },
     "metadata": {},
     "output_type": "display_data"
    }
   ],
   "source": [
    "# Graph avec le default matplotlib : df_table_counts.plot(kind='bar')\n",
    "# https://stanford.edu/~mwaskom/software/seaborn/generated/seaborn.factorplot.html#seaborn.factorplot\n",
    "%pylab inline\n",
    "import seaborn as sns\n",
    "sns.set_style('darkgrid')\n",
    "sns.factorplot(data=df_table_counts, x='tablename', y='nbdocs', kind=\"bar\", aspect=3.0, order=list(df_table_counts.tablename))"
   ]
  },
  {
   "cell_type": "code",
   "execution_count": 44,
   "metadata": {
    "collapsed": false
   },
   "outputs": [
    {
     "data": {
      "text/plain": [
       "484"
      ]
     },
     "execution_count": 44,
     "metadata": {},
     "output_type": "execute_result"
    }
   ],
   "source": [
    "r.table('immoanno').filter(r.row['ts_lastfetched'].ge(r.iso8601('2016-09-01T00:00:00-02:00'))).count().run(rdb)"
   ]
  },
  {
   "cell_type": "markdown",
   "metadata": {},
   "source": [
    "## Query : Nb de docs par ville"
   ]
  },
  {
   "cell_type": "code",
   "execution_count": 45,
   "metadata": {
    "collapsed": false
   },
   "outputs": [
    {
     "data": {
      "text/plain": [
       "<seaborn.axisgrid.FacetGrid at 0x7f47c51d4f98>"
      ]
     },
     "execution_count": 45,
     "metadata": {},
     "output_type": "execute_result"
    },
    {
     "data": {
      "image/png": "[encoded data removed]",
      "text/plain": [
       "<matplotlib.figure.Figure at 0x7f47c51d4b38>"
      ]
     },
     "metadata": {},
     "output_type": "display_data"
    }
   ],
   "source": [
    "distri_ville = r.table('immoanno').filter(r.row['ts_lastfetched'].ge(r.iso8601('2016-09-01T00:00:00-02:00'))).group('localite_stz').count().run(rdb) \n",
    "distri_ville_df = pd.DataFrame(columns=['villes', 'nbdocs'], data={'villes': list(distri_ville.keys()), 'nbdocs': list(distri_ville.values())})\n",
    "#distri_ville_df.head()\n",
    "df_to_show = distri_ville_df.sort_values(by='nbdocs', ascending=True, inplace=False, kind='quicksort', na_position='last')\n",
    "df_to_show = df_to_show[-15:]\n",
    "sns.factorplot(data=df_to_show, x='villes', y='nbdocs', kind=\"bar\", aspect=4.0, order=list(df_to_show.villes))\n"
   ]
  },
  {
   "cell_type": "markdown",
   "metadata": {},
   "source": [
    "## Query : Nb de docs par jour sur un field timestamp"
   ]
  },
  {
   "cell_type": "code",
   "execution_count": 348,
   "metadata": {
    "collapsed": false,
    "scrolled": true
   },
   "outputs": [
    {
     "data": {
      "text/plain": [
       "<seaborn.axisgrid.FacetGrid at 0x7f20d2364780>"
      ]
     },
     "execution_count": 348,
     "metadata": {},
     "output_type": "execute_result"
    },
    {
     "data": {
      "image/png": "[encoded data removed]",
      "text/plain": [
       "<matplotlib.figure.Figure at 0x7f20d22f4f98>"
      ]
     },
     "metadata": {},
     "output_type": "display_data"
    }
   ],
   "source": [
    "#list(r.table('immoanno').get_field('ts_updated').map(lambda val: val.to_iso8601().slice(0,10)).group('ts_updated').count().limit(10).run(rdb))\n",
    "\n",
    "distri_date = r.table('immoanno').map(lambda val: val.merge(r.object('ts_updated_group', val['ts_updated'].to_iso8601().slice(0,10)))).group('ts_updated_group').count().run(rdb) \n",
    "#distri_date_df = pd.DataFrame(index=distri_date.keys(), columns=['nbdocs'], data=list(distri_date.values()))\n",
    "\n",
    "distri_date_df = pd.DataFrame(columns=['datejour', 'nbdocs'], data={'datejour': list(distri_date.keys()), 'nbdocs': list(distri_date.values())})\n",
    "df_to_show = distri_date_df.sort_values(by='datejour', ascending=True, inplace=False, kind='quicksort', na_position='last')\n",
    "df_to_show = df_to_show[-10:]\n",
    "sns.factorplot(data=df_to_show, x='datejour', y='nbdocs', kind=\"bar\", aspect=4.0, order=list(df_to_show.datejour))\n",
    "#distri_date_df"
   ]
  },
  {
   "cell_type": "markdown",
   "metadata": {},
   "source": [
    "## Deplacer des items dont un champ fait partie d'une liste"
   ]
  },
  {
   "cell_type": "code",
   "execution_count": null,
   "metadata": {
    "collapsed": true
   },
   "outputs": [],
   "source": [
    "from aclib.func4strings import Func4strings as f4s\n",
    "liste_villes_exclure = ['aix les bains', '73100', 'auris', '38142', 'bernin', '38190', 'chambery', '38000', 'grenoble', '73000', 'charvieu chavagneux', 'huez', '38750', 'bourg d oisans', 'livet et gavet', 'montmelian']\n",
    "\n",
    "objs = list(r.table('immoanno').run(rdb))\n",
    "nb_anno_discarded = 0\n",
    "for obj in objs :\n",
    "    if f4s.strMatchAny(liste_villes_exclure, obj['localite_stz']) or f4s.strMatchAny(liste_villes_exclure, obj['codepostal']):\n",
    "        r.table('immoannoDiscarded').insert(obj).run(rdb)\n",
    "        r.table('immoanno').get(obj['id']).delete().run(rdb)\n",
    "        nb_anno_discarded += 1\n",
    "nb_anno_discarded"
   ]
  },
  {
   "cell_type": "markdown",
   "metadata": {},
   "source": [
    "## Query : recup sur config"
   ]
  },
  {
   "cell_type": "code",
   "execution_count": 353,
   "metadata": {
    "collapsed": false
   },
   "outputs": [
    {
     "name": "stdout",
     "output_type": "stream",
     "text": [
      "['check.requirements', 'deamon.monitor.rdb', 'deamon.scan.vifiles', 'fetch.imm.lbc', 'fetch.imm.sudi', 'fetch.imm.zil', 'fetcher.homwiz', 'ops4app', 'websrv.immo', 'websrv.static', 'websrv.vid']\n"
     ]
    }
   ],
   "source": [
    "print(r.table('config')['id'].distinct().run(rdb))"
   ]
  },
  {
   "cell_type": "code",
   "execution_count": 357,
   "metadata": {
    "collapsed": false
   },
   "outputs": [
    {
     "data": {
      "text/plain": [
       "[{'id': 'fetch.imm.zil',\n",
       "  'period.in.days': 2,\n",
       "  'rdb.table.annonces': 'immoanno',\n",
       "  'rdb.table.images': 'immoimg',\n",
       "  'urls': {'bauges.73630': 'http://zilek.fr/immobilier/city/1/max_p-600000~trans_type-sale~property_type-house~sort-date/Doucy-en-Bauges%20(73630),Jarsy%20(73630),La%20Compôte%20(73630),Le%20Châtelard%20(73630).htm',\n",
       "   'belledonne.73110': 'http://zilek.fr/immobilier/city/1/max_p-600000~trans_type-sale~property_type-house~sort-date/Bourget-en-Huile%20(73110),La%20Table%20(73110),Le%20Pontet%20(73110).htm',\n",
       "   'belledonne.73220': 'http://zilek.fr/immobilier/city/1/max_p-600000~trans_type-sale~property_type-house~sort-date/Aiguebelle%20(73220),Bonvillaret%20(73220),Montsapey%20(73220).htm',\n",
       "   'ecrins.38520': 'http://zilek.fr/immobilier/city/1/max_p-600000~radius-10~trans_type-sale~property_type-house~sort-date/Villard-Reymond%20(38520).htm',\n",
       "   'monteynard.38350': 'http://zilek.fr/immobilier/city/1/max_p-600000~trans_type-sale~property_type-house~sort-date/Cognet%20(38350),Marcieu%20(38350),Mayres-Savel%20(38350),Saint-Arey%20(38350).htm',\n",
       "   'monteynard.38650': 'http://zilek.fr/immobilier/city/1/max_p-600000~trans_type-sale~property_type-house~sort-date/Roissard%20(38650),Saint-Martin-de-la-Cluze%20(38650),Saint-Michel-les-Portes%20(38650),Saint-Paul-lès-Monestier%20(38650),Sinard%20(38650),Treffort%20(38650).htm'}}]"
      ]
     },
     "execution_count": 357,
     "metadata": {},
     "output_type": "execute_result"
    }
   ],
   "source": [
    "list(r.table('config').filter(r.row['id'].match('fetch.imm.sudi')).run(rdb))"
   ]
  },
  {
   "cell_type": "code",
   "execution_count": 358,
   "metadata": {
    "collapsed": false
   },
   "outputs": [
    {
     "data": {
      "text/plain": [
       "{'deleted': 1,\n",
       " 'errors': 0,\n",
       " 'inserted': 0,\n",
       " 'replaced': 0,\n",
       " 'skipped': 0,\n",
       " 'unchanged': 0}"
      ]
     },
     "execution_count": 358,
     "metadata": {},
     "output_type": "execute_result"
    }
   ],
   "source": [
    "r.table('config').get('fetch.imm.sudi').delete().run(rdb)"
   ]
  },
  {
   "cell_type": "code",
   "execution_count": 16,
   "metadata": {
    "collapsed": false
   },
   "outputs": [
    {
     "data": {
      "text/plain": [
       "[{'codepostal': '38260', 'nom_stz': 'bossieu'},\n",
       " {'codepostal': '38890', 'nom_stz': 'vasselin'},\n",
       " {'codepostal': '38280', 'nom_stz': 'janneyrias'},\n",
       " {'codepostal': '73260', 'nom_stz': 'saint oyen'},\n",
       " {'codepostal': '38450', 'nom_stz': 'miribel lanchatre'}]"
      ]
     },
     "execution_count": 16,
     "metadata": {},
     "output_type": "execute_result"
    }
   ],
   "source": [
    "list(r.table('ress_villesfr').filter(lambda row : r.expr(['38','73']).contains(row['departement'])).pluck('codepostal', 'nom_stz').limit(5).run(rdb))\n",
    "\n"
   ]
  },
  {
   "cell_type": "code",
   "execution_count": 13,
   "metadata": {
    "collapsed": false
   },
   "outputs": [
    {
     "data": {
      "text/plain": [
       "True"
      ]
     },
     "execution_count": 13,
     "metadata": {},
     "output_type": "execute_result"
    }
   ],
   "source": [
    "r.expr(['38','78']).contains('38').run(rdb)"
   ]
  },
  {
   "cell_type": "code",
   "execution_count": 9,
   "metadata": {
    "collapsed": false
   },
   "outputs": [
    {
     "data": {
      "text/plain": [
       "0"
      ]
     },
     "execution_count": 9,
     "metadata": {},
     "output_type": "execute_result"
    }
   ],
   "source": [
    "l = list(r.table('ress_villesfr').filter(['38','73].contains(r.row['departement'].eq('38')).pluck('codepostal', 'nom_stz').run(rdb))\n",
    "len(l)\n"
   ]
  },
  {
   "cell_type": "code",
   "execution_count": 5,
   "metadata": {
    "collapsed": false
   },
   "outputs": [
    {
     "data": {
      "text/plain": [
       "[{'classeenergie': '',\n",
       "  'codepostal': '38350',\n",
       "  'description': \"Maison proche du lac de Monteynard. A proximité de MARCIEU, à environ 800 m du lac, sur une parcelle de 1705 m², cette maison à rénover se compose de 3 chambres, un bureau ou débarras et un garage dans un petit hameau sur les pentes du lac de Monteynard à 20 minutes de la Mure. Idéalement exposé, plein sud, elle bénéficie d'une magnifique vue sur le lac et les montagnes du Vercors.\",\n",
       "  'description_stz': 'maison proche du lac de monteynard a proximite de marcieu a environ 800 m du lac sur une parcelle de 1705 m2 cette maison a renover se compose de 3 chambres un bureau ou debarras et un garage dans un petit hameau sur les pentes du lac de monteynard a 20 minutes de la mure idealement expose plein sud elle beneficie d une magnifique vue sur le lac et les montagnes du vercors',\n",
       "  'ges': '',\n",
       "  'history': {},\n",
       "  'id': 'http://www.immo-isere.com/fr/la-mure/maison-de-campagne,3009078.html?type=0&nbpieces=0&localisation=marcieu&budget_min=10000&',\n",
       "  'id_hash': 'c4a9dcc8a6977389d2de6c448042e6211a597ec9',\n",
       "  'images_ids': ['9bb86285-278c-41fc-a55e-62e3fecdfd4f',\n",
       "   'ede8f812-2400-45fd-a5a7-a88e8468b686',\n",
       "   '71f3c0ca-d493-46e7-8bad-137a0ab3f82b',\n",
       "   'f0950a61-7e14-4f42-8a20-d3a5032f9f6a',\n",
       "   '2f962ba7-756f-468b-a6c0-a02cf77d26b5'],\n",
       "  'localite_stz': 'marcieu',\n",
       "  'nbpieces': 0,\n",
       "  'price': 65000,\n",
       "  'sources': ['sudisere', 'monteynard.38350'],\n",
       "  'surface': 0,\n",
       "  'title': 'Maison à MARCIEU',\n",
       "  'title_stz': 'maison a marcieu',\n",
       "  'ts_collected': datetime.datetime(2016, 4, 1, 19, 5, 58, 38000, tzinfo=<rethinkdb.ast.RqlTzinfo object at 0x7f6d1493cf98>),\n",
       "  'ts_lastfetched': datetime.datetime(2016, 6, 14, 19, 5, 4, 231000, tzinfo=<rethinkdb.ast.RqlTzinfo object at 0x7f6d1493cfd0>),\n",
       "  'ts_published': datetime.datetime(2016, 4, 1, 19, 5, 58, 38000, tzinfo=<rethinkdb.ast.RqlTzinfo object at 0x7f6d1494d080>),\n",
       "  'ts_updated': datetime.datetime(2016, 4, 1, 19, 5, 58, 38000, tzinfo=<rethinkdb.ast.RqlTzinfo object at 0x7f6d1494d128>),\n",
       "  'type2bien': 'maison',\n",
       "  'uploadby': 'Agence SudIsere',\n",
       "  'url_annonce': 'http://www.immo-isere.com/fr/la-mure/maison-de-campagne,3009078.html?type=0&nbpieces=0&localisation=marcieu&budget_min=10000&budget_max=600000',\n",
       "  'url_images': ['http://www.immo-isere.com/fr/img3009078,big_1.jpg',\n",
       "   'http://www.immo-isere.com/fr/img3009078,big_2.jpg',\n",
       "   'http://www.immo-isere.com/fr/img3009078,big_3.jpg',\n",
       "   'http://www.immo-isere.com/fr/img3009078,big_4.jpg',\n",
       "   'http://www.immo-isere.com/fr/img3009078,big_5.jpg'],\n",
       "  'user_tags': ['aur']}]"
      ]
     },
     "execution_count": 5,
     "metadata": {},
     "output_type": "execute_result"
    }
   ],
   "source": [
    "c = r.table('immoanno').limit(1).run(rdb)\n",
    "list(c)"
   ]
  },
  {
   "cell_type": "markdown",
   "metadata": {},
   "source": [
    "## Query docs from a table"
   ]
  },
  {
   "cell_type": "code",
   "execution_count": 257,
   "metadata": {
    "collapsed": false
   },
   "outputs": [
    {
     "name": "stdout",
     "output_type": "stream",
     "text": [
      "['check.requirements', 'deamon.monitor.rdb', 'deamon.scan.vifiles', 'fetch.imm.lbc', 'fetch.imm.sudi', 'fetch.imm.zil', 'fetcher.homwiz', 'ops4app', 'websrv.immo', 'websrv.static', 'websrv.vid']\n"
     ]
    },
    {
     "data": {
      "text/html": [
       "<div>\n",
       "<table border=\"1\" class=\"dataframe\">\n",
       "  <thead>\n",
       "    <tr style=\"text-align: right;\">\n",
       "      <th></th>\n",
       "      <th>bases.to.monitor</th>\n",
       "      <th>fich_ignore</th>\n",
       "      <th>fich_soustit</th>\n",
       "      <th>fich_vid</th>\n",
       "      <th>homwiz.url.allsensors</th>\n",
       "      <th>homwiz.url.contactsensor.history.prefixe</th>\n",
       "      <th>homwiz.url.contactsensor.history.suffixe</th>\n",
       "      <th>id</th>\n",
       "      <th>idb.database.sensors</th>\n",
       "      <th>idb.ip</th>\n",
       "      <th>...</th>\n",
       "      <th>rdb.table.annonces</th>\n",
       "      <th>rdb.table.images</th>\n",
       "      <th>rdb.table.phot</th>\n",
       "      <th>rdb.table.vidfiles</th>\n",
       "      <th>rdb.table.vids</th>\n",
       "      <th>rdb.table.vids.users</th>\n",
       "      <th>reps</th>\n",
       "      <th>table_cfg_in_rdb</th>\n",
       "      <th>table_logs_in_rdb</th>\n",
       "      <th>urls</th>\n",
       "    </tr>\n",
       "  </thead>\n",
       "  <tbody>\n",
       "    <tr>\n",
       "      <th>0</th>\n",
       "      <td>NaN</td>\n",
       "      <td>NaN</td>\n",
       "      <td>NaN</td>\n",
       "      <td>NaN</td>\n",
       "      <td>NaN</td>\n",
       "      <td>NaN</td>\n",
       "      <td>NaN</td>\n",
       "      <td>fetch.imm.zil</td>\n",
       "      <td>NaN</td>\n",
       "      <td>NaN</td>\n",
       "      <td>...</td>\n",
       "      <td>immoanno</td>\n",
       "      <td>immoimg</td>\n",
       "      <td>NaN</td>\n",
       "      <td>NaN</td>\n",
       "      <td>NaN</td>\n",
       "      <td>NaN</td>\n",
       "      <td>NaN</td>\n",
       "      <td>NaN</td>\n",
       "      <td>NaN</td>\n",
       "      <td>{'monteynard.38650': 'http://zilek.fr/immobili...</td>\n",
       "    </tr>\n",
       "    <tr>\n",
       "      <th>1</th>\n",
       "      <td>NaN</td>\n",
       "      <td>[jpg, jpeg, png, pdf, mht, ac3, mp3, rar]</td>\n",
       "      <td>[srt, idx, sub, txt, srr, sup, ass]</td>\n",
       "      <td>[mkv, ts, avi, mp4, mpg, flv, webm, wmv, divx,...</td>\n",
       "      <td>NaN</td>\n",
       "      <td>NaN</td>\n",
       "      <td>NaN</td>\n",
       "      <td>deamon.scan.vifiles</td>\n",
       "      <td>NaN</td>\n",
       "      <td>NaN</td>\n",
       "      <td>...</td>\n",
       "      <td>NaN</td>\n",
       "      <td>NaN</td>\n",
       "      <td>NaN</td>\n",
       "      <td>vids</td>\n",
       "      <td>NaN</td>\n",
       "      <td>NaN</td>\n",
       "      <td>{'vi2': '\\\\192.168.75.96\\vi2\\', 'vi1new': '\\\\1...</td>\n",
       "      <td>NaN</td>\n",
       "      <td>NaN</td>\n",
       "      <td>NaN</td>\n",
       "    </tr>\n",
       "    <tr>\n",
       "      <th>2</th>\n",
       "      <td>hdh;</td>\n",
       "      <td>NaN</td>\n",
       "      <td>NaN</td>\n",
       "      <td>NaN</td>\n",
       "      <td>NaN</td>\n",
       "      <td>NaN</td>\n",
       "      <td>NaN</td>\n",
       "      <td>deamon.monitor.rdb</td>\n",
       "      <td>NaN</td>\n",
       "      <td>NaN</td>\n",
       "      <td>...</td>\n",
       "      <td>NaN</td>\n",
       "      <td>NaN</td>\n",
       "      <td>NaN</td>\n",
       "      <td>NaN</td>\n",
       "      <td>NaN</td>\n",
       "      <td>NaN</td>\n",
       "      <td>NaN</td>\n",
       "      <td>NaN</td>\n",
       "      <td>NaN</td>\n",
       "      <td>NaN</td>\n",
       "    </tr>\n",
       "    <tr>\n",
       "      <th>3</th>\n",
       "      <td>NaN</td>\n",
       "      <td>NaN</td>\n",
       "      <td>NaN</td>\n",
       "      <td>NaN</td>\n",
       "      <td>NaN</td>\n",
       "      <td>NaN</td>\n",
       "      <td>NaN</td>\n",
       "      <td>fetch.imm.lbc</td>\n",
       "      <td>NaN</td>\n",
       "      <td>NaN</td>\n",
       "      <td>...</td>\n",
       "      <td>immoanno</td>\n",
       "      <td>immoimg</td>\n",
       "      <td>NaN</td>\n",
       "      <td>NaN</td>\n",
       "      <td>NaN</td>\n",
       "      <td>NaN</td>\n",
       "      <td>NaN</td>\n",
       "      <td>NaN</td>\n",
       "      <td>NaN</td>\n",
       "      <td>{'monteynard.38650': 'http://www.leboncoin.fr/...</td>\n",
       "    </tr>\n",
       "    <tr>\n",
       "      <th>4</th>\n",
       "      <td>NaN</td>\n",
       "      <td>NaN</td>\n",
       "      <td>NaN</td>\n",
       "      <td>NaN</td>\n",
       "      <td>NaN</td>\n",
       "      <td>NaN</td>\n",
       "      <td>NaN</td>\n",
       "      <td>check.requirements</td>\n",
       "      <td>NaN</td>\n",
       "      <td>NaN</td>\n",
       "      <td>...</td>\n",
       "      <td>NaN</td>\n",
       "      <td>NaN</td>\n",
       "      <td>NaN</td>\n",
       "      <td>NaN</td>\n",
       "      <td>NaN</td>\n",
       "      <td>NaN</td>\n",
       "      <td>NaN</td>\n",
       "      <td>NaN</td>\n",
       "      <td>NaN</td>\n",
       "      <td>NaN</td>\n",
       "    </tr>\n",
       "  </tbody>\n",
       "</table>\n",
       "<p>5 rows × 32 columns</p>\n",
       "</div>"
      ],
      "text/plain": [
       "  bases.to.monitor                                fich_ignore  \\\n",
       "0              NaN                                        NaN   \n",
       "1              NaN  [jpg, jpeg, png, pdf, mht, ac3, mp3, rar]   \n",
       "2             hdh;                                        NaN   \n",
       "3              NaN                                        NaN   \n",
       "4              NaN                                        NaN   \n",
       "\n",
       "                          fich_soustit  \\\n",
       "0                                  NaN   \n",
       "1  [srt, idx, sub, txt, srr, sup, ass]   \n",
       "2                                  NaN   \n",
       "3                                  NaN   \n",
       "4                                  NaN   \n",
       "\n",
       "                                            fich_vid homwiz.url.allsensors  \\\n",
       "0                                                NaN                   NaN   \n",
       "1  [mkv, ts, avi, mp4, mpg, flv, webm, wmv, divx,...                   NaN   \n",
       "2                                                NaN                   NaN   \n",
       "3                                                NaN                   NaN   \n",
       "4                                                NaN                   NaN   \n",
       "\n",
       "  homwiz.url.contactsensor.history.prefixe  \\\n",
       "0                                      NaN   \n",
       "1                                      NaN   \n",
       "2                                      NaN   \n",
       "3                                      NaN   \n",
       "4                                      NaN   \n",
       "\n",
       "  homwiz.url.contactsensor.history.suffixe                   id  \\\n",
       "0                                      NaN        fetch.imm.zil   \n",
       "1                                      NaN  deamon.scan.vifiles   \n",
       "2                                      NaN   deamon.monitor.rdb   \n",
       "3                                      NaN        fetch.imm.lbc   \n",
       "4                                      NaN   check.requirements   \n",
       "\n",
       "  idb.database.sensors idb.ip  \\\n",
       "0                  NaN    NaN   \n",
       "1                  NaN    NaN   \n",
       "2                  NaN    NaN   \n",
       "3                  NaN    NaN   \n",
       "4                  NaN    NaN   \n",
       "\n",
       "                         ...                         rdb.table.annonces  \\\n",
       "0                        ...                                   immoanno   \n",
       "1                        ...                                        NaN   \n",
       "2                        ...                                        NaN   \n",
       "3                        ...                                   immoanno   \n",
       "4                        ...                                        NaN   \n",
       "\n",
       "   rdb.table.images rdb.table.phot rdb.table.vidfiles  rdb.table.vids  \\\n",
       "0           immoimg            NaN                NaN             NaN   \n",
       "1               NaN            NaN               vids             NaN   \n",
       "2               NaN            NaN                NaN             NaN   \n",
       "3           immoimg            NaN                NaN             NaN   \n",
       "4               NaN            NaN                NaN             NaN   \n",
       "\n",
       "   rdb.table.vids.users                                               reps  \\\n",
       "0                   NaN                                                NaN   \n",
       "1                   NaN  {'vi2': '\\\\192.168.75.96\\vi2\\', 'vi1new': '\\\\1...   \n",
       "2                   NaN                                                NaN   \n",
       "3                   NaN                                                NaN   \n",
       "4                   NaN                                                NaN   \n",
       "\n",
       "  table_cfg_in_rdb table_logs_in_rdb  \\\n",
       "0              NaN               NaN   \n",
       "1              NaN               NaN   \n",
       "2              NaN               NaN   \n",
       "3              NaN               NaN   \n",
       "4              NaN               NaN   \n",
       "\n",
       "                                                urls  \n",
       "0  {'monteynard.38650': 'http://zilek.fr/immobili...  \n",
       "1                                                NaN  \n",
       "2                                                NaN  \n",
       "3  {'monteynard.38650': 'http://www.leboncoin.fr/...  \n",
       "4                                                NaN  \n",
       "\n",
       "[5 rows x 32 columns]"
      ]
     },
     "execution_count": 257,
     "metadata": {},
     "output_type": "execute_result"
    }
   ],
   "source": [
    "# Dump d'une table RDB dans un DataFrame\n",
    "df_t_config = pd.DataFrame(list(r.table('config').run(rdb)))\n",
    "print(sorted(list(df_t_config['id'])))\n",
    "df_t_config.head()"
   ]
  },
  {
   "cell_type": "code",
   "execution_count": null,
   "metadata": {
    "collapsed": true
   },
   "outputs": [],
   "source": []
  },
  {
   "cell_type": "code",
   "execution_count": null,
   "metadata": {
    "collapsed": true
   },
   "outputs": [],
   "source": []
  }
 ],
 "metadata": {
  "kernelspec": {
   "display_name": "Python 3",
   "language": "python",
   "name": "python3"
  },
  "language_info": {
   "codemirror_mode": {
    "name": "ipython",
    "version": 3
   },
   "file_extension": ".py",
   "mimetype": "text/x-python",
   "name": "python",
   "nbconvert_exporter": "python",
   "pygments_lexer": "ipython3",
   "version": "3.5.2"
  }
 },
 "nbformat": 4,
 "nbformat_minor": 1
}
